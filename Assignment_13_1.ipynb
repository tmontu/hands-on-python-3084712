{
  "cells": [
    {
      "cell_type": "markdown",
      "metadata": {
        "id": "view-in-github",
        "colab_type": "text"
      },
      "source": [
        "<a href=\"https://colab.research.google.com/github/tmontu/hands-on-python-3084712/blob/main/Assignment_13_1.ipynb\" target=\"_parent\"><img src=\"https://colab.research.google.com/assets/colab-badge.svg\" alt=\"Open In Colab\"/></a>"
      ]
    },
    {
      "cell_type": "markdown",
      "metadata": {
        "id": "q9nMTUi44-VR"
      },
      "source": [
        "  \n",
        "## Problem Description\n",
        "\n",
        "There are six end landfills, each with a known demand for a waste material.  Landfill demand can be satisfied from a set of four transfer station depots, or directly from a set of two waste generating centers.  Each transfer depot can support a maximum volume of waste moving through it, and each waste generating center can generate a maximum amount of waste.  There are known costs associated with transporting the waste, from a center to a depot, from a depot to a landfill, or from a center directly to a landfill.\n",
        "\n",
        "The waste network has two waste generating centers, in NewYork and NewJersey, which generate the waste.  Each has a maximum waste generating volume:\n",
        "\n",
        "| Center | Waste (tons) |\n",
        "| --- | --- |\n",
        "| NewYork | 300,000 |\n",
        "| NewJersey |  400,000 |\n",
        "\n",
        "The waste can be shipped from a center to a set of four depots. Each depot has a maximum throughput.\n",
        "\n",
        "| Depot | Throughput (tons) |\n",
        "| --- | --- |\n",
        "| Bronx | 140,000 |\n",
        "| Brooklyn | 100,000 |\n",
        "| Queens | 200,000 |\n",
        "| StatenIsland | 80,000 |\n",
        "\n",
        "Our network has six landfills, each with a given maxiumum demand.\n",
        "\n",
        "| Landfill | Demand (tons) |\n",
        "| --- | --- |\n",
        "| C1 | 100,000 |\n",
        "| C2 | 20,000 |\n",
        "| C3 | 80,000 |\n",
        "| C4 | 70,000 |\n",
        "| C5 | 120,000 |\n",
        "| C6 | 40,000 |\n",
        "\n",
        "Transporation costs are given in the following table (in dollars per ton).  Columns are source cities and rows are destination cities.  \n",
        "\n",
        "| To | NewYork | NewJersey | Bronx | Brooklyn | Queens | StatenIsland |\n",
        "| --- | --- | --- | --- | --- | --- | --- |\n",
        "| Depots |\n",
        "| Bronx  | 0.7 |   - |\n",
        "| Brooklyn | 0.7 | 0.5 |\n",
        "| Queens     | 1.2 | 0.7 |\n",
        "| StatenIsland     | 0.4 | 0.4 |\n",
        "| Landfills |\n",
        "| C1 | 1.2 | 2.2 |   - | 1.2 |   - |   - |\n",
        "| C2 |   - |   - | 1.7 | 0.7 | 1.7 |   - |\n",
        "| C3 | 1.7 |   - | 0.7 | 0.75 | 2.2 | 0.4 |\n",
        "| C4 | 2.2 |   - | 1.7 | 1.2|   - | 1.7 |\n",
        "| C5 |   - |   - |   - | 0.7 | 0.7 | 0.7 |\n",
        "| C6 | 1.2 |   - | 1.2 |   - | 1.7 | 1.7 |\n",
        "\n",
        "Question: How to satisfy the demands of the end Landfills while minimizing shipping costs.\n",
        "\n",
        "---\n",
        "## Model Formulation\n",
        "\n",
        "### Sets and Indices\n",
        "\n",
        "$f \\in \\text{Centers}=\\{\\text{NewYork}, \\text{NewJersey}\\}$\n",
        "\n",
        "$d \\in \\text{Depots}=\\{\\text{Bronx}, \\text{Brooklyn}, \\text{Queens}, \\text{StatenIsland}\\}$\n",
        "\n",
        "$c \\in \\text{Landfills}=\\{\\text{C1}, \\text{C2}, \\text{C3}, \\text{C4}, \\text{C5}, \\text{C6}\\}$\n",
        "\n",
        "$\\text{Locations} = \\text{Centers} \\cup \\text{Depots} \\cup \\text{Landfills}$\n",
        "\n",
        "### Parameters\n",
        "\n",
        "$\\text{cost}_{s,t} \\in \\mathbb{R}^+$: Cost of shipping one ton from source $s$ to destination $t$.\n",
        "\n",
        "$\\text{supply}_f \\in \\mathbb{R}^+$: Maximum possible supply from center $f$ (in tons).\n",
        "\n",
        "$\\text{through}_d \\in \\mathbb{R}^+$: Maximum possible flow through depot $d$ (in tons).\n",
        "\n",
        "$\\text{demand}_c \\in \\mathbb{R}^+$: Demand for waste at landfill $c$ (in tons).\n",
        "\n",
        "### Decision Variables\n",
        "\n",
        "$\\text{flow}_{s,t} \\in \\mathbb{N}^+$: Quantity of waste (in tons) that is shipped from source $s$ to destionation $t$.\n",
        "\n",
        "\n",
        "### Objective Function\n",
        "\n",
        "- **Cost**: Minimize total shipping costs.\n",
        "\n",
        "\\begin{equation}\n",
        "\\text{Minimize} \\quad Z = \\sum_{(s,t) \\in \\text{locations} \\times \\text{locations}}{\\text{cost}_{s,t}*\\text{flow}_{s,t}}\n",
        "\\end{equation}\n",
        "\n",
        "### Constraints\n",
        "\n",
        "- **Center output**: Flow of goods from a factory must respect maximum capacity.\n",
        "\n",
        "\\begin{equation}\n",
        "\\sum_{t \\in \\text{locations}}{\\text{flow}_{f,t}} \\leq \\text{supply}_{f} \\quad \\forall f \\in \\text{Centers}\n",
        "\\end{equation}\n",
        "\n",
        "- **Landfill demand**: Flow of goods must meet customer demand.\n",
        "\n",
        "\\begin{equation}\n",
        "\\sum_{s \\in \\text{locations}}{\\text{flow}_{s,c}} = \\text{demand}_{c} \\quad \\forall c \\in \\text{Landfills}\n",
        "\\end{equation}\n",
        "\n",
        "- **Depot flow**: Flow into a depot equals flow out of the depot.\n",
        "\n",
        "\\begin{equation}\n",
        "\\sum_{s \\in \\text{locations}}{\\text{flow}_{s,d}} =\n",
        "\\sum_{t \\in \\text{locations}}{\\text{flow}_{d,t}}\n",
        "\\quad \\forall d \\in \\text{Depots}\n",
        "\\end{equation}\n",
        "\n",
        "- **Depot capacity**: Flow into a depot must respect depot capacity.\n",
        "\n",
        "\\begin{equation}\n",
        "\\sum_{s \\in \\text{locations}}{\\text{flow}_{s,d}} \\leq \\text{through}_{d}\n",
        "\\quad \\forall d \\in \\text{Depots}\n",
        "\\end{equation}\n",
        "\n",
        "---\n",
        "## Python Implementation\n",
        "\n",
        "We import the Gurobi Python Module and other Python libraries."
      ]
    },
    {
      "cell_type": "code",
      "execution_count": 1,
      "metadata": {
        "id": "0xEpMNeG4-Vc",
        "outputId": "4cdc388a-5710-4eac-c2ac-58651f3f8df0",
        "colab": {
          "base_uri": "https://localhost:8080/"
        }
      },
      "outputs": [
        {
          "output_type": "stream",
          "name": "stdout",
          "text": [
            "Collecting gurobipy\n",
            "  Downloading gurobipy-11.0.0-cp310-cp310-manylinux2014_x86_64.manylinux_2_17_x86_64.whl (13.4 MB)\n",
            "\u001b[2K     \u001b[90m━━━━━━━━━━━━━━━━━━━━━━━━━━━━━━━━━━━━━━━━\u001b[0m \u001b[32m13.4/13.4 MB\u001b[0m \u001b[31m43.1 MB/s\u001b[0m eta \u001b[36m0:00:00\u001b[0m\n",
            "\u001b[?25hInstalling collected packages: gurobipy\n",
            "Successfully installed gurobipy-11.0.0\n"
          ]
        }
      ],
      "source": [
        "%pip install gurobipy"
      ]
    },
    {
      "cell_type": "code",
      "execution_count": 2,
      "metadata": {
        "id": "738F7JqM4-Vf"
      },
      "outputs": [],
      "source": [
        "import pandas as pd\n",
        "\n",
        "import gurobipy as gp\n",
        "from gurobipy import GRB\n",
        "\n",
        "# tested with Python 3.7.0 & Gurobi 9.0"
      ]
    },
    {
      "cell_type": "markdown",
      "metadata": {
        "id": "F-EYxwS04-Vg"
      },
      "source": [
        "## Input Data\n",
        "We define all the input data for the model."
      ]
    },
    {
      "cell_type": "code",
      "execution_count": 3,
      "metadata": {
        "id": "SzWBwmR44-Vg"
      },
      "outputs": [],
      "source": [
        "# Create dictionaries to capture center supply limits, depot throughput limits, and landfill demand.\n",
        "\n",
        "supply = dict({'NewYork': 300000,\n",
        "               'NewJersey': 400000})\n",
        "\n",
        "through = dict({'Bronx': 140000,\n",
        "                'Brooklyn': 100000,\n",
        "                'Queens': 200000,\n",
        "                'StatenIsland': 80000})\n",
        "\n",
        "demand = dict({'C1': 100000,\n",
        "               'C2': 20000,\n",
        "               'C3': 80000,\n",
        "               'C4': 70000,\n",
        "               'C5': 120000,\n",
        "               'C6': 40000})\n",
        "\n",
        "# Create a dictionary to capture shipping costs.\n",
        "\n",
        "arcs, cost = gp.multidict({\n",
        "    ('NewYork', 'Bronx'): 0.7,\n",
        "    ('NewYork', 'Brooklyn'): 0.7,\n",
        "    ('NewYork', 'Queens'): 1.2,\n",
        "    ('NewYork', 'StatenIsland'): 0.4,\n",
        "    ('NewYork', 'C1'): 1.2,\n",
        "    ('NewYork', 'C3'): 1.7,\n",
        "    ('NewYork', 'C4'): 2.2,\n",
        "    ('NewYork', 'C6'): 1.2,\n",
        "    ('NewJersey', 'Brooklyn'): 0.5,\n",
        "    ('NewJersey', 'Queens'): 0.7,\n",
        "    ('NewJersey', 'StatenIsland'): 0.4,\n",
        "    ('NewJersey', 'C1'): 2.2,\n",
        "    ('Bronx', 'C2'): 1.7,\n",
        "    ('Bronx', 'C3'): 0.7,\n",
        "    ('Bronx', 'C4'): 1.7,\n",
        "    ('Bronx', 'C6'): 1.2,\n",
        "    ('Brooklyn', 'C1'): 1.2,\n",
        "    ('Brooklyn', 'C2'): 0.7,\n",
        "    ('Brooklyn', 'C3'): 0.7,\n",
        "    ('Brooklyn', 'C4'): 1.2,\n",
        "    ('Brooklyn', 'C5'): 0.7,\n",
        "    ('Queens', 'C2'): 1.7,\n",
        "    ('Queens', 'C3'): 2.2,\n",
        "    ('Queens', 'C5'): 0.7,\n",
        "    ('Queens', 'C6'): 1.7,\n",
        "    ('StatenIsland', 'C3'): 0.4,\n",
        "    ('StatenIsland', 'C4'): 1.7,\n",
        "    ('StatenIsland', 'C5'): 0.7,\n",
        "    ('StatenIsland', 'C6'): 1.7\n",
        "})"
      ]
    },
    {
      "cell_type": "markdown",
      "metadata": {
        "id": "vPVjXtEj4-Vh"
      },
      "source": [
        "## Model Deployment\n",
        "\n",
        "Create a model and  variables. The variables simply capture the amount of waste that flows along each allowed path between a source and destination.  Objective coefficients are provided here (in $\\text{cost}$) , so we don't need to provide an optimization objective later."
      ]
    },
    {
      "cell_type": "code",
      "execution_count": 4,
      "metadata": {
        "id": "nAG_57KN4-Vi",
        "colab": {
          "base_uri": "https://localhost:8080/"
        },
        "outputId": "4d5c1c8c-c3dd-41cd-9847-7029f502e278"
      },
      "outputs": [
        {
          "output_type": "stream",
          "name": "stdout",
          "text": [
            "Restricted license - for non-production use only - expires 2025-11-24\n"
          ]
        }
      ],
      "source": [
        "model = gp.Model('SupplyNetworkDesign')\n",
        "flow = model.addVars(arcs, obj=cost, name=\"flow\")"
      ]
    },
    {
      "cell_type": "markdown",
      "source": [],
      "metadata": {
        "id": "fb85AXFEYgIu"
      }
    },
    {
      "cell_type": "markdown",
      "metadata": {
        "id": "gnPQK0is4-Vn"
      },
      "source": [
        "First constraints require the total flow along arcs leaving a center to be at most as large as the supply capacity of that center."
      ]
    },
    {
      "cell_type": "code",
      "execution_count": 5,
      "metadata": {
        "id": "3hecBmI24-Vo"
      },
      "outputs": [],
      "source": [
        "# Center capacity limits\n",
        "\n",
        "centers = supply.keys()\n",
        "center_flow = model.addConstrs((gp.quicksum(flow.select(center, '*')) <= supply[center]\n",
        "                                 for center in centers), name=\"center\")"
      ]
    },
    {
      "cell_type": "markdown",
      "metadata": {
        "id": "jmiEgu8W4-Vq"
      },
      "source": [
        "Next constraints require the total flow along arcs entering a landfill to be equal to the demand from that landfill."
      ]
    },
    {
      "cell_type": "code",
      "execution_count": 6,
      "metadata": {
        "id": "69oIgEpB4-Vt"
      },
      "outputs": [],
      "source": [
        "# landfill demand\n",
        "\n",
        "landfills = demand.keys()\n",
        "landfill_flow = model.addConstrs((gp.quicksum(flow.select('*', landfill)) == demand[landfill]\n",
        "                                  for landfill in landfills), name=\"landfill\")"
      ]
    },
    {
      "cell_type": "markdown",
      "metadata": {
        "id": "g01Jp8c24-Vu"
      },
      "source": [
        "Final constraints relate to depots.  The first constraints require that the total amount of waste entering the depot must equal the total amount leaving."
      ]
    },
    {
      "cell_type": "code",
      "execution_count": 7,
      "metadata": {
        "id": "3I9pD1Fo4-Vv"
      },
      "outputs": [],
      "source": [
        "# Depot flow conservation\n",
        "\n",
        "depots = through.keys()\n",
        "depot_flow = model.addConstrs((gp.quicksum(flow.select(depot, '*')) == gp.quicksum(flow.select('*', depot))\n",
        "                               for depot in depots), name=\"depot\")"
      ]
    },
    {
      "cell_type": "markdown",
      "metadata": {
        "id": "l3kTwWOc4-Vw"
      },
      "source": [
        "The second set limits the waste passing through the depot to be at most equal the throughput of that depot."
      ]
    },
    {
      "cell_type": "code",
      "execution_count": 8,
      "metadata": {
        "id": "6ekHOrf34-Vx"
      },
      "outputs": [],
      "source": [
        "# Depot throughput\n",
        "\n",
        "depot_capacity = model.addConstrs((gp.quicksum(flow.select('*', depot)) <= through[depot]\n",
        "                                   for depot in depots), name=\"depot_capacity\")"
      ]
    },
    {
      "cell_type": "markdown",
      "metadata": {
        "id": "YzwiP6954-Vx"
      },
      "source": [
        "Optimize the model"
      ]
    },
    {
      "cell_type": "code",
      "execution_count": 9,
      "metadata": {
        "id": "cBhd3lk74-Vy",
        "outputId": "fe744c82-0824-48b3-a27c-826a46100b49",
        "colab": {
          "base_uri": "https://localhost:8080/"
        }
      },
      "outputs": [
        {
          "output_type": "stream",
          "name": "stdout",
          "text": [
            "Gurobi Optimizer version 11.0.0 build v11.0.0rc2 (linux64 - \"Ubuntu 22.04.3 LTS\")\n",
            "\n",
            "CPU model: Intel(R) Xeon(R) CPU @ 2.20GHz, instruction set [SSE2|AVX|AVX2]\n",
            "Thread count: 1 physical cores, 2 logical processors, using up to 2 threads\n",
            "\n",
            "Optimize a model with 16 rows, 29 columns and 65 nonzeros\n",
            "Model fingerprint: 0x6a0e70a2\n",
            "Coefficient statistics:\n",
            "  Matrix range     [1e+00, 1e+00]\n",
            "  Objective range  [4e-01, 2e+00]\n",
            "  Bounds range     [0e+00, 0e+00]\n",
            "  RHS range        [2e+04, 4e+05]\n",
            "Presolve removed 1 rows and 0 columns\n",
            "Presolve time: 0.01s\n",
            "Presolved: 15 rows, 29 columns, 64 nonzeros\n",
            "\n",
            "Iteration    Objective       Primal Inf.    Dual Inf.      Time\n",
            "       0    3.8200000e+05   3.625000e+04   0.000000e+00      0s\n",
            "       7    5.4100000e+05   0.000000e+00   0.000000e+00      0s\n",
            "\n",
            "Solved in 7 iterations and 0.02 seconds (0.00 work units)\n",
            "Optimal objective  5.410000000e+05\n"
          ]
        }
      ],
      "source": [
        "model.optimize()"
      ]
    },
    {
      "cell_type": "markdown",
      "metadata": {
        "id": "sFEsLxsg4-Vz"
      },
      "source": [
        "---\n",
        "## Analysis\n",
        "\n",
        "Waste demand from all of our landfillss can be satisfied for a total cost of $\\$541,000$. The optimal plan is as follows."
      ]
    },
    {
      "cell_type": "code",
      "execution_count": 11,
      "metadata": {
        "id": "ahGJz-p74-V0",
        "outputId": "5b29b14f-2253-41cf-996c-9e559db5c73e",
        "colab": {
          "base_uri": "https://localhost:8080/",
          "height": 710
        }
      },
      "outputs": [
        {
          "output_type": "stream",
          "name": "stderr",
          "text": [
            "<ipython-input-11-09c61175209d>:4: FutureWarning: The frame.append method is deprecated and will be removed from pandas in a future version. Use pandas.concat instead.\n",
            "  product_flow = product_flow.append({\"From\": arc[0], \"To\": arc[1], \"Flow\": flow[arc].x}, ignore_index=True)\n",
            "<ipython-input-11-09c61175209d>:4: FutureWarning: The frame.append method is deprecated and will be removed from pandas in a future version. Use pandas.concat instead.\n",
            "  product_flow = product_flow.append({\"From\": arc[0], \"To\": arc[1], \"Flow\": flow[arc].x}, ignore_index=True)\n",
            "<ipython-input-11-09c61175209d>:4: FutureWarning: The frame.append method is deprecated and will be removed from pandas in a future version. Use pandas.concat instead.\n",
            "  product_flow = product_flow.append({\"From\": arc[0], \"To\": arc[1], \"Flow\": flow[arc].x}, ignore_index=True)\n",
            "<ipython-input-11-09c61175209d>:4: FutureWarning: The frame.append method is deprecated and will be removed from pandas in a future version. Use pandas.concat instead.\n",
            "  product_flow = product_flow.append({\"From\": arc[0], \"To\": arc[1], \"Flow\": flow[arc].x}, ignore_index=True)\n",
            "<ipython-input-11-09c61175209d>:4: FutureWarning: The frame.append method is deprecated and will be removed from pandas in a future version. Use pandas.concat instead.\n",
            "  product_flow = product_flow.append({\"From\": arc[0], \"To\": arc[1], \"Flow\": flow[arc].x}, ignore_index=True)\n",
            "<ipython-input-11-09c61175209d>:4: FutureWarning: The frame.append method is deprecated and will be removed from pandas in a future version. Use pandas.concat instead.\n",
            "  product_flow = product_flow.append({\"From\": arc[0], \"To\": arc[1], \"Flow\": flow[arc].x}, ignore_index=True)\n",
            "<ipython-input-11-09c61175209d>:4: FutureWarning: The frame.append method is deprecated and will be removed from pandas in a future version. Use pandas.concat instead.\n",
            "  product_flow = product_flow.append({\"From\": arc[0], \"To\": arc[1], \"Flow\": flow[arc].x}, ignore_index=True)\n",
            "<ipython-input-11-09c61175209d>:4: FutureWarning: The frame.append method is deprecated and will be removed from pandas in a future version. Use pandas.concat instead.\n",
            "  product_flow = product_flow.append({\"From\": arc[0], \"To\": arc[1], \"Flow\": flow[arc].x}, ignore_index=True)\n",
            "<ipython-input-11-09c61175209d>:4: FutureWarning: The frame.append method is deprecated and will be removed from pandas in a future version. Use pandas.concat instead.\n",
            "  product_flow = product_flow.append({\"From\": arc[0], \"To\": arc[1], \"Flow\": flow[arc].x}, ignore_index=True)\n",
            "<ipython-input-11-09c61175209d>:4: FutureWarning: The frame.append method is deprecated and will be removed from pandas in a future version. Use pandas.concat instead.\n",
            "  product_flow = product_flow.append({\"From\": arc[0], \"To\": arc[1], \"Flow\": flow[arc].x}, ignore_index=True)\n"
          ]
        },
        {
          "output_type": "execute_result",
          "data": {
            "text/plain": [
              "          From            To      Flow\n",
              "       NewYork            C1  100000.0\n",
              "       NewYork            C6   40000.0\n",
              "     NewJersey      Brooklyn  100000.0\n",
              "     NewJersey        Queens  110000.0\n",
              "     NewJersey  StatenIsland   80000.0\n",
              "      Brooklyn            C2   20000.0\n",
              "      Brooklyn            C4   70000.0\n",
              "      Brooklyn            C5   10000.0\n",
              "        Queens            C5  110000.0\n",
              "  StatenIsland            C3   80000.0"
            ],
            "text/html": [
              "\n",
              "  <div id=\"df-b463c2b6-0696-4cc7-9673-6574a86c6626\" class=\"colab-df-container\">\n",
              "    <div>\n",
              "<style scoped>\n",
              "    .dataframe tbody tr th:only-of-type {\n",
              "        vertical-align: middle;\n",
              "    }\n",
              "\n",
              "    .dataframe tbody tr th {\n",
              "        vertical-align: top;\n",
              "    }\n",
              "\n",
              "    .dataframe thead th {\n",
              "        text-align: right;\n",
              "    }\n",
              "</style>\n",
              "<table border=\"1\" class=\"dataframe\">\n",
              "  <thead>\n",
              "    <tr style=\"text-align: right;\">\n",
              "      <th></th>\n",
              "      <th>From</th>\n",
              "      <th>To</th>\n",
              "      <th>Flow</th>\n",
              "    </tr>\n",
              "  </thead>\n",
              "  <tbody>\n",
              "    <tr>\n",
              "      <th></th>\n",
              "      <td>NewYork</td>\n",
              "      <td>C1</td>\n",
              "      <td>100000.0</td>\n",
              "    </tr>\n",
              "    <tr>\n",
              "      <th></th>\n",
              "      <td>NewYork</td>\n",
              "      <td>C6</td>\n",
              "      <td>40000.0</td>\n",
              "    </tr>\n",
              "    <tr>\n",
              "      <th></th>\n",
              "      <td>NewJersey</td>\n",
              "      <td>Brooklyn</td>\n",
              "      <td>100000.0</td>\n",
              "    </tr>\n",
              "    <tr>\n",
              "      <th></th>\n",
              "      <td>NewJersey</td>\n",
              "      <td>Queens</td>\n",
              "      <td>110000.0</td>\n",
              "    </tr>\n",
              "    <tr>\n",
              "      <th></th>\n",
              "      <td>NewJersey</td>\n",
              "      <td>StatenIsland</td>\n",
              "      <td>80000.0</td>\n",
              "    </tr>\n",
              "    <tr>\n",
              "      <th></th>\n",
              "      <td>Brooklyn</td>\n",
              "      <td>C2</td>\n",
              "      <td>20000.0</td>\n",
              "    </tr>\n",
              "    <tr>\n",
              "      <th></th>\n",
              "      <td>Brooklyn</td>\n",
              "      <td>C4</td>\n",
              "      <td>70000.0</td>\n",
              "    </tr>\n",
              "    <tr>\n",
              "      <th></th>\n",
              "      <td>Brooklyn</td>\n",
              "      <td>C5</td>\n",
              "      <td>10000.0</td>\n",
              "    </tr>\n",
              "    <tr>\n",
              "      <th></th>\n",
              "      <td>Queens</td>\n",
              "      <td>C5</td>\n",
              "      <td>110000.0</td>\n",
              "    </tr>\n",
              "    <tr>\n",
              "      <th></th>\n",
              "      <td>StatenIsland</td>\n",
              "      <td>C3</td>\n",
              "      <td>80000.0</td>\n",
              "    </tr>\n",
              "  </tbody>\n",
              "</table>\n",
              "</div>\n",
              "    <div class=\"colab-df-buttons\">\n",
              "\n",
              "  <div class=\"colab-df-container\">\n",
              "    <button class=\"colab-df-convert\" onclick=\"convertToInteractive('df-b463c2b6-0696-4cc7-9673-6574a86c6626')\"\n",
              "            title=\"Convert this dataframe to an interactive table.\"\n",
              "            style=\"display:none;\">\n",
              "\n",
              "  <svg xmlns=\"http://www.w3.org/2000/svg\" height=\"24px\" viewBox=\"0 -960 960 960\">\n",
              "    <path d=\"M120-120v-720h720v720H120Zm60-500h600v-160H180v160Zm220 220h160v-160H400v160Zm0 220h160v-160H400v160ZM180-400h160v-160H180v160Zm440 0h160v-160H620v160ZM180-180h160v-160H180v160Zm440 0h160v-160H620v160Z\"/>\n",
              "  </svg>\n",
              "    </button>\n",
              "\n",
              "  <style>\n",
              "    .colab-df-container {\n",
              "      display:flex;\n",
              "      gap: 12px;\n",
              "    }\n",
              "\n",
              "    .colab-df-convert {\n",
              "      background-color: #E8F0FE;\n",
              "      border: none;\n",
              "      border-radius: 50%;\n",
              "      cursor: pointer;\n",
              "      display: none;\n",
              "      fill: #1967D2;\n",
              "      height: 32px;\n",
              "      padding: 0 0 0 0;\n",
              "      width: 32px;\n",
              "    }\n",
              "\n",
              "    .colab-df-convert:hover {\n",
              "      background-color: #E2EBFA;\n",
              "      box-shadow: 0px 1px 2px rgba(60, 64, 67, 0.3), 0px 1px 3px 1px rgba(60, 64, 67, 0.15);\n",
              "      fill: #174EA6;\n",
              "    }\n",
              "\n",
              "    .colab-df-buttons div {\n",
              "      margin-bottom: 4px;\n",
              "    }\n",
              "\n",
              "    [theme=dark] .colab-df-convert {\n",
              "      background-color: #3B4455;\n",
              "      fill: #D2E3FC;\n",
              "    }\n",
              "\n",
              "    [theme=dark] .colab-df-convert:hover {\n",
              "      background-color: #434B5C;\n",
              "      box-shadow: 0px 1px 3px 1px rgba(0, 0, 0, 0.15);\n",
              "      filter: drop-shadow(0px 1px 2px rgba(0, 0, 0, 0.3));\n",
              "      fill: #FFFFFF;\n",
              "    }\n",
              "  </style>\n",
              "\n",
              "    <script>\n",
              "      const buttonEl =\n",
              "        document.querySelector('#df-b463c2b6-0696-4cc7-9673-6574a86c6626 button.colab-df-convert');\n",
              "      buttonEl.style.display =\n",
              "        google.colab.kernel.accessAllowed ? 'block' : 'none';\n",
              "\n",
              "      async function convertToInteractive(key) {\n",
              "        const element = document.querySelector('#df-b463c2b6-0696-4cc7-9673-6574a86c6626');\n",
              "        const dataTable =\n",
              "          await google.colab.kernel.invokeFunction('convertToInteractive',\n",
              "                                                    [key], {});\n",
              "        if (!dataTable) return;\n",
              "\n",
              "        const docLinkHtml = 'Like what you see? Visit the ' +\n",
              "          '<a target=\"_blank\" href=https://colab.research.google.com/notebooks/data_table.ipynb>data table notebook</a>'\n",
              "          + ' to learn more about interactive tables.';\n",
              "        element.innerHTML = '';\n",
              "        dataTable['output_type'] = 'display_data';\n",
              "        await google.colab.output.renderOutput(dataTable, element);\n",
              "        const docLink = document.createElement('div');\n",
              "        docLink.innerHTML = docLinkHtml;\n",
              "        element.appendChild(docLink);\n",
              "      }\n",
              "    </script>\n",
              "  </div>\n",
              "\n",
              "\n",
              "<div id=\"df-d6dda8c0-2a8f-4956-9850-51a2e0432f02\">\n",
              "  <button class=\"colab-df-quickchart\" onclick=\"quickchart('df-d6dda8c0-2a8f-4956-9850-51a2e0432f02')\"\n",
              "            title=\"Suggest charts\"\n",
              "            style=\"display:none;\">\n",
              "\n",
              "<svg xmlns=\"http://www.w3.org/2000/svg\" height=\"24px\"viewBox=\"0 0 24 24\"\n",
              "     width=\"24px\">\n",
              "    <g>\n",
              "        <path d=\"M19 3H5c-1.1 0-2 .9-2 2v14c0 1.1.9 2 2 2h14c1.1 0 2-.9 2-2V5c0-1.1-.9-2-2-2zM9 17H7v-7h2v7zm4 0h-2V7h2v10zm4 0h-2v-4h2v4z\"/>\n",
              "    </g>\n",
              "</svg>\n",
              "  </button>\n",
              "\n",
              "<style>\n",
              "  .colab-df-quickchart {\n",
              "      --bg-color: #E8F0FE;\n",
              "      --fill-color: #1967D2;\n",
              "      --hover-bg-color: #E2EBFA;\n",
              "      --hover-fill-color: #174EA6;\n",
              "      --disabled-fill-color: #AAA;\n",
              "      --disabled-bg-color: #DDD;\n",
              "  }\n",
              "\n",
              "  [theme=dark] .colab-df-quickchart {\n",
              "      --bg-color: #3B4455;\n",
              "      --fill-color: #D2E3FC;\n",
              "      --hover-bg-color: #434B5C;\n",
              "      --hover-fill-color: #FFFFFF;\n",
              "      --disabled-bg-color: #3B4455;\n",
              "      --disabled-fill-color: #666;\n",
              "  }\n",
              "\n",
              "  .colab-df-quickchart {\n",
              "    background-color: var(--bg-color);\n",
              "    border: none;\n",
              "    border-radius: 50%;\n",
              "    cursor: pointer;\n",
              "    display: none;\n",
              "    fill: var(--fill-color);\n",
              "    height: 32px;\n",
              "    padding: 0;\n",
              "    width: 32px;\n",
              "  }\n",
              "\n",
              "  .colab-df-quickchart:hover {\n",
              "    background-color: var(--hover-bg-color);\n",
              "    box-shadow: 0 1px 2px rgba(60, 64, 67, 0.3), 0 1px 3px 1px rgba(60, 64, 67, 0.15);\n",
              "    fill: var(--button-hover-fill-color);\n",
              "  }\n",
              "\n",
              "  .colab-df-quickchart-complete:disabled,\n",
              "  .colab-df-quickchart-complete:disabled:hover {\n",
              "    background-color: var(--disabled-bg-color);\n",
              "    fill: var(--disabled-fill-color);\n",
              "    box-shadow: none;\n",
              "  }\n",
              "\n",
              "  .colab-df-spinner {\n",
              "    border: 2px solid var(--fill-color);\n",
              "    border-color: transparent;\n",
              "    border-bottom-color: var(--fill-color);\n",
              "    animation:\n",
              "      spin 1s steps(1) infinite;\n",
              "  }\n",
              "\n",
              "  @keyframes spin {\n",
              "    0% {\n",
              "      border-color: transparent;\n",
              "      border-bottom-color: var(--fill-color);\n",
              "      border-left-color: var(--fill-color);\n",
              "    }\n",
              "    20% {\n",
              "      border-color: transparent;\n",
              "      border-left-color: var(--fill-color);\n",
              "      border-top-color: var(--fill-color);\n",
              "    }\n",
              "    30% {\n",
              "      border-color: transparent;\n",
              "      border-left-color: var(--fill-color);\n",
              "      border-top-color: var(--fill-color);\n",
              "      border-right-color: var(--fill-color);\n",
              "    }\n",
              "    40% {\n",
              "      border-color: transparent;\n",
              "      border-right-color: var(--fill-color);\n",
              "      border-top-color: var(--fill-color);\n",
              "    }\n",
              "    60% {\n",
              "      border-color: transparent;\n",
              "      border-right-color: var(--fill-color);\n",
              "    }\n",
              "    80% {\n",
              "      border-color: transparent;\n",
              "      border-right-color: var(--fill-color);\n",
              "      border-bottom-color: var(--fill-color);\n",
              "    }\n",
              "    90% {\n",
              "      border-color: transparent;\n",
              "      border-bottom-color: var(--fill-color);\n",
              "    }\n",
              "  }\n",
              "</style>\n",
              "\n",
              "  <script>\n",
              "    async function quickchart(key) {\n",
              "      const quickchartButtonEl =\n",
              "        document.querySelector('#' + key + ' button');\n",
              "      quickchartButtonEl.disabled = true;  // To prevent multiple clicks.\n",
              "      quickchartButtonEl.classList.add('colab-df-spinner');\n",
              "      try {\n",
              "        const charts = await google.colab.kernel.invokeFunction(\n",
              "            'suggestCharts', [key], {});\n",
              "      } catch (error) {\n",
              "        console.error('Error during call to suggestCharts:', error);\n",
              "      }\n",
              "      quickchartButtonEl.classList.remove('colab-df-spinner');\n",
              "      quickchartButtonEl.classList.add('colab-df-quickchart-complete');\n",
              "    }\n",
              "    (() => {\n",
              "      let quickchartButtonEl =\n",
              "        document.querySelector('#df-d6dda8c0-2a8f-4956-9850-51a2e0432f02 button');\n",
              "      quickchartButtonEl.style.display =\n",
              "        google.colab.kernel.accessAllowed ? 'block' : 'none';\n",
              "    })();\n",
              "  </script>\n",
              "</div>\n",
              "    </div>\n",
              "  </div>\n"
            ]
          },
          "metadata": {},
          "execution_count": 11
        }
      ],
      "source": [
        "product_flow = pd.DataFrame(columns=[\"From\", \"To\", \"Flow\"])\n",
        "for arc in arcs:\n",
        "    if flow[arc].x > 1e-6:\n",
        "        product_flow = product_flow.append({\"From\": arc[0], \"To\": arc[1], \"Flow\": flow[arc].x}, ignore_index=True)\n",
        "product_flow.index=[''] * len(product_flow)\n",
        "product_flow"
      ]
    }
  ],
  "metadata": {
    "kernelspec": {
      "display_name": "Python 3",
      "language": "python",
      "name": "python3"
    },
    "language_info": {
      "codemirror_mode": {
        "name": "ipython",
        "version": 3
      },
      "file_extension": ".py",
      "mimetype": "text/x-python",
      "name": "python",
      "nbconvert_exporter": "python",
      "pygments_lexer": "ipython3",
      "version": "3.7.1"
    },
    "colab": {
      "provenance": [],
      "include_colab_link": true
    }
  },
  "nbformat": 4,
  "nbformat_minor": 0
}